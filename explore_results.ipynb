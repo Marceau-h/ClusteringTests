{
 "cells": [
  {
   "metadata": {},
   "cell_type": "code",
   "source": [
    "import json\n",
    "from pathlib import Path\n",
    "\n",
    "import polars as pl\n",
    "import plotly.express as px"
   ],
   "id": "ea5cba4db290676a",
   "outputs": [],
   "execution_count": null
  },
  {
   "metadata": {},
   "cell_type": "code",
   "source": [
    "with open(\"res.json\") as f:\n",
    "    res = json.load(f)"
   ],
   "id": "e7f24f7a32dac09c",
   "outputs": [],
   "execution_count": null
  },
  {
   "metadata": {},
   "cell_type": "code",
   "source": [
    "df = []\n",
    "\n",
    "for book, book_res in res.items():\n",
    "    for hyp, hyp_res in book_res.items():\n",
    "        for metric, metric_res in hyp_res.items():\n",
    "            df.append({\n",
    "                \"book\": book,\n",
    "                \"hyp\": hyp,\n",
    "                \"metric\": metric,\n",
    "                \"value\": metric_res\n",
    "            })\n",
    "\n",
    "df = pl.DataFrame(df)\n",
    "df"
   ],
   "id": "d2ab672f6e274079",
   "outputs": [],
   "execution_count": null
  },
  {
   "metadata": {},
   "cell_type": "code",
   "source": [
    "res_folder = Path(\"figs\")\n",
    "res_folder.mkdir(exist_ok=True)\n",
    "\n",
    "for metric, metric_df in df.group_by(\"metric\"):\n",
    "    title = f\"{metric[0]} by hypothesis\"\n",
    "    fig = px.box(metric_df, y=\"value\", color=\"hyp\", title=title, labels={\"value\": metric[0], \"hyp\": \"Hypothesis\"})\n",
    "    fig.show()\n",
    "\n",
    "    file = res_folder / f\"{metric[0]}.html\"\n",
    "    fig.write_html(file)\n",
    "    fig.write_image(file.with_suffix(\".png\"))\n",
    "    fig.write_image(file.with_suffix(\".webp\"))\n"
   ],
   "id": "ad87a1efbbc95b6b",
   "outputs": [],
   "execution_count": null
  },
  {
   "metadata": {},
   "cell_type": "code",
   "source": "",
   "id": "e3d802f02361f68c",
   "outputs": [],
   "execution_count": null
  }
 ],
 "metadata": {
  "kernelspec": {
   "name": "python3",
   "language": "python",
   "display_name": "Python 3 (ipykernel)"
  }
 },
 "nbformat": 5,
 "nbformat_minor": 9
}
