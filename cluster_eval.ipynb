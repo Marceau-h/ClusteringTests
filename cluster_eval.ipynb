{
 "cells": [
  {
   "cell_type": "code",
   "id": "initial_id",
   "metadata": {
    "collapsed": true,
    "ExecuteTime": {
     "end_time": "2025-02-20T13:13:58.654810Z",
     "start_time": "2025-02-20T13:13:58.651545Z"
    }
   },
   "source": [
    "import json\n",
    "from pathlib import Path\n",
    "\n",
    "import numpy as np\n",
    "import polars as pl\n",
    "from sklearn.metrics import rand_score, adjusted_rand_score, mutual_info_score, normalized_mutual_info_score, adjusted_mutual_info_score, homogeneity_score, completeness_score, v_measure_score, fowlkes_mallows_score, silhouette_score, calinski_harabasz_score, davies_bouldin_score\n",
    "from sklearn.metrics.pairwise import cosine_distances"
   ],
   "outputs": [],
   "execution_count": 48
  },
  {
   "metadata": {
    "ExecuteTime": {
     "end_time": "2025-02-20T13:13:58.915679Z",
     "start_time": "2025-02-20T13:13:58.913312Z"
    }
   },
   "cell_type": "code",
   "source": [
    "y_col = \"cluster\"\n",
    "x_cols = [\"x_pos\", \"y_pos\"]"
   ],
   "id": "9d1912794fdf394b",
   "outputs": [],
   "execution_count": 54
  },
  {
   "metadata": {
    "ExecuteTime": {
     "end_time": "2025-02-20T13:13:58.682113Z",
     "start_time": "2025-02-20T13:13:58.679631Z"
    }
   },
   "cell_type": "code",
   "outputs": [],
   "execution_count": 49,
   "source": [
    "super_metrics = {\n",
    "    \"rand_score\": rand_score,\n",
    "    \"adjusted_rand_score\": adjusted_rand_score,\n",
    "    \"mutual_info_score\": mutual_info_score,\n",
    "    \"normalized_mutual_info_score\": normalized_mutual_info_score,\n",
    "    \"adjusted_mutual_info_score\": adjusted_mutual_info_score,\n",
    "    \"homogeneity_score\": homogeneity_score,\n",
    "    \"completeness_score\": completeness_score,\n",
    "    \"v_measure_score\": v_measure_score,\n",
    "    \"fowlkes_mallows_score\": fowlkes_mallows_score,\n",
    "}\n",
    "\n",
    "pos_metrics = {\n",
    "    \"silhouette_score\": silhouette_score,\n",
    "    \"calinski_harabasz_score\": calinski_harabasz_score,\n",
    "    \"davies_bouldin_score\": davies_bouldin_score,\n",
    "}"
   ],
   "id": "9d8c1ebf8c2f38e8"
  },
  {
   "metadata": {
    "ExecuteTime": {
     "end_time": "2025-02-20T13:13:58.725210Z",
     "start_time": "2025-02-20T13:13:58.722936Z"
    }
   },
   "cell_type": "code",
   "outputs": [],
   "execution_count": 50,
   "source": [
    "def do_metric(metric, yhat, y_or_X):\n",
    "    if metric in super_metrics:\n",
    "        return super_metrics[metric](y_or_X, yhat)\n",
    "    elif metric in pos_metrics:\n",
    "        return pos_metrics[metric](y_or_X, yhat)\n",
    "    else:\n",
    "        raise ValueError(f\"Invalid metric: {metric}\")"
   ],
   "id": "4268bec0c299cfc0"
  },
  {
   "metadata": {},
   "cell_type": "code",
   "outputs": [],
   "execution_count": null,
   "source": [
    "def find_hyps(book_dir: Path):\n",
    "    for path in book_dir.iterdir():\n",
    "        if path.name.endswith(\"df_points.jsonl\"):\n",
    "            yield path"
   ],
   "id": "1c083feaac22705a"
  },
  {
   "metadata": {
    "ExecuteTime": {
     "end_time": "2025-02-20T13:13:58.772477Z",
     "start_time": "2025-02-20T13:13:58.770356Z"
    }
   },
   "cell_type": "code",
   "outputs": [],
   "execution_count": 51,
   "source": [
    "ref = Path(\"outp/AGUILAR_REF_GT_df_points.jsonl\")\n",
    "hyp = Path(\"corpus_en/AGUILAR_home-influence/AGUILAR_REF/AGUILAR_home-influence_REF_AffpropHyperparams2_df_points.jsonl\")"
   ],
   "id": "f95f0dcb5890982a"
  },
  {
   "metadata": {
    "ExecuteTime": {
     "end_time": "2025-02-20T13:13:58.820058Z",
     "start_time": "2025-02-20T13:13:58.816553Z"
    }
   },
   "cell_type": "code",
   "outputs": [],
   "execution_count": 52,
   "source": [
    "ref_df = pl.read_ndjson(ref)\n",
    "hyp_df = pl.read_ndjson(hyp)"
   ],
   "id": "d53064a36f4351f"
  },
  {
   "metadata": {
    "ExecuteTime": {
     "end_time": "2025-02-20T13:13:58.961346Z",
     "start_time": "2025-02-20T13:13:58.958988Z"
    }
   },
   "cell_type": "code",
   "source": [
    "y = ref_df[y_col].to_numpy()\n",
    "yhat = hyp_df[y_col].to_numpy()\n",
    "coords = hyp_df[x_cols].to_numpy()\n"
   ],
   "id": "7302a49216105690",
   "outputs": [],
   "execution_count": 55
  },
  {
   "metadata": {
    "ExecuteTime": {
     "end_time": "2025-02-20T13:13:59.007382Z",
     "start_time": "2025-02-20T13:13:59.004840Z"
    }
   },
   "cell_type": "code",
   "source": "dists = cosine_distances(coords)",
   "id": "418109bf0109f02f",
   "outputs": [],
   "execution_count": 56
  },
  {
   "metadata": {
    "ExecuteTime": {
     "end_time": "2025-02-20T13:13:59.133580Z",
     "start_time": "2025-02-20T13:13:59.124967Z"
    }
   },
   "cell_type": "code",
   "source": [
    "for metric in super_metrics:\n",
    "    print(f\"{metric}: {do_metric(metric, yhat, y)}\")"
   ],
   "id": "dfd9b930cfa6956a",
   "outputs": [
    {
     "name": "stdout",
     "output_type": "stream",
     "text": [
      "rand_score: 0.9221213569039656\n",
      "adjusted_rand_score: 0.036905192077508524\n",
      "mutual_info_score: 1.9919468661428772\n",
      "normalized_mutual_info_score: 0.6277813964814433\n",
      "adjusted_mutual_info_score: 0.05742181444488404\n",
      "homogeneity_score: 0.5675852901302326\n",
      "completeness_score: 0.7022607052961277\n",
      "v_measure_score: 0.6277813964814433\n",
      "fowlkes_mallows_score: 0.07731523606134356\n"
     ]
    }
   ],
   "execution_count": 58
  },
  {
   "metadata": {
    "ExecuteTime": {
     "end_time": "2025-02-20T13:13:59.246961Z",
     "start_time": "2025-02-20T13:13:59.238461Z"
    }
   },
   "cell_type": "code",
   "source": [
    "for metric in pos_metrics:\n",
    "    print(f\"{metric}: {do_metric(metric, yhat, coords)}\")"
   ],
   "id": "c78c740fab749999",
   "outputs": [
    {
     "name": "stdout",
     "output_type": "stream",
     "text": [
      "silhouette_score: -0.4297444391206185\n",
      "calinski_harabasz_score: 23.25427755025825\n",
      "davies_bouldin_score: 12.12243265034912\n"
     ]
    }
   ],
   "execution_count": 59
  },
  {
   "metadata": {
    "ExecuteTime": {
     "end_time": "2025-02-20T13:13:59.337137Z",
     "start_time": "2025-02-20T13:13:59.335320Z"
    }
   },
   "cell_type": "code",
   "source": "",
   "id": "e94d19b729c0f997",
   "outputs": [],
   "execution_count": null
  }
 ],
 "metadata": {
  "kernelspec": {
   "display_name": "Python 3",
   "language": "python",
   "name": "python3"
  },
  "language_info": {
   "codemirror_mode": {
    "name": "ipython",
    "version": 2
   },
   "file_extension": ".py",
   "mimetype": "text/x-python",
   "name": "python",
   "nbconvert_exporter": "python",
   "pygments_lexer": "ipython2",
   "version": "2.7.6"
  }
 },
 "nbformat": 4,
 "nbformat_minor": 5
}
